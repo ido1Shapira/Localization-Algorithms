{
 "cells": [
  {
   "cell_type": "code",
   "execution_count": 1,
   "metadata": {},
   "outputs": [],
   "source": [
    "import numpy as np\n",
    "from numpy.linalg import inv"
   ]
  },
  {
   "cell_type": "markdown",
   "metadata": {},
   "source": [
    "predict step: \n",
    "returns new state vector X and the new P variance"
   ]
  },
  {
   "cell_type": "code",
   "execution_count": 2,
   "metadata": {},
   "outputs": [],
   "source": [
    "def predict(F, X, B, u, P, Q, verbos=0):\n",
    "    # Project the state ahead\n",
    "    X_new = F*X + B*u\n",
    "    # Project the error covariance ahead\n",
    "    P_new = F*P*F.T + Q\n",
    "    \n",
    "    if verbos > 1:\n",
    "        print(\"X_new = {}*{} + {}*{}\".format(F,X,B,u))\n",
    "        print(\"P_new = {}*{}*{} + {}\".format(F,P,F.T,Q))\n",
    "        \n",
    "    if verbos > 0:\n",
    "        print(\"X': \", X_new)\n",
    "        print(\"P': \", P_new)\n",
    "    \n",
    "    return X_new, P_new"
   ]
  },
  {
   "cell_type": "markdown",
   "metadata": {},
   "source": [
    "gets a new measurement from the system and refines the guess"
   ]
  },
  {
   "cell_type": "code",
   "execution_count": 3,
   "metadata": {},
   "outputs": [],
   "source": [
    "def measure(P_new, H, R, X_new, z, verbos=0):\n",
    "    # Compute the Kalman gain\n",
    "    K = P_new * H.T * inv(H * P_new * H.T + R)\n",
    "    # Update estimate with measurement z\n",
    "    X_new = X_new + K * (z - H * X_new)\n",
    "    # Update the error covariance\n",
    "    I = np.eye(P_new.shape[0], P_new.shape[1])\n",
    "    P_new = (I - K * H) * P_new\n",
    "    \n",
    "    if verbos > 1:\n",
    "        print(\"K = {}*{}*inv({}*{}*{} + {})\".format(P_new,H.T,H,P_new,H.T,R))\n",
    "        print(\"X_new = {} + {}*({} - {} * {})\".format(X_new,K,z,H,X_new))\n",
    "        print(\"P_new = (I - {}*{})*{}\".format(K,H,P_new))\n",
    "        \n",
    "#     if verbos > 0:\n",
    "#         print('\\nAfter measurement:\\n', z)\n",
    "#         print('_______________________')\n",
    "#         print('\\nX_new:\\n', X_new)\n",
    "#         print('_______________________')\n",
    "#         print('\\nP_new:\\n', P_new)\n",
    "#         print('_______________________')\n",
    "#         print('\\nKalman gain:\\n', K)\n",
    "        \n",
    "    return X_new, P_new, K\n"
   ]
  },
  {
   "cell_type": "markdown",
   "metadata": {},
   "source": [
    "# Q3:"
   ]
  },
  {
   "cell_type": "code",
   "execution_count": 4,
   "metadata": {},
   "outputs": [],
   "source": [
    "class KalmanFilter:\n",
    "    def __init__(self, F, B, u, Q, H, R, X, P):\n",
    "        self.F = F  # state transistion matrix\n",
    "        self.B = B  # control transition matrix\n",
    "        self.u = u\n",
    "        self.Q = Q  # Process uncertainty/noise\n",
    "        self.H = H  # measurement function\n",
    "        self.R = R  # measurement uncertainty/noise\n",
    "        self.X_current = X  # filter state estimate\n",
    "        self.P_current = P  # covariance matrix\n",
    "        self.K_gain = None  # Kalman gain\n",
    "\n",
    "    def run(self, z, verbos=0):\n",
    "        # z = vector of measurements\n",
    "        z_counter = 1\n",
    "        for m in z:\n",
    "            if verbos > 0:\n",
    "                print(z_counter, ':')\n",
    "                z_counter = z_counter + 1\n",
    "            self.X_current, self.P_current = predict(self.F, self.X_current, self.B, self.u, self.P_current, self.Q, verbos)\n",
    "            self.X_current, self.P_current, self.K_gain = measure(self.P_current, self.H, self.R, self.X_current, m, verbos)\n",
    "                \n",
    "        print('Finish!')\n",
    "\n",
    "        print('\\nState Vector is:\\n', self.X_current)\n",
    "        print('_______________________')\n",
    "        print('\\nP matrix is:\\n', self.P_current)\n",
    "        print('_______________________')\n",
    "        print('\\nKalman gain is:\\n', self.K_gain)"
   ]
  },
  {
   "cell_type": "markdown",
   "metadata": {},
   "source": [
    "# Q1:"
   ]
  },
  {
   "cell_type": "code",
   "execution_count": 5,
   "metadata": {},
   "outputs": [
    {
     "name": "stdout",
     "output_type": "stream",
     "text": [
      "After Prediction:\n",
      "\n",
      "P matrix is:\n",
      " [[5.44 1.44]\n",
      " [1.44 1.44]]\n",
      "\n",
      "State Vector is:\n",
      " [[13.]\n",
      " [ 5.]]\n",
      "_________________\n",
      "After Update:\n",
      "\n",
      "P matrix is:\n",
      " [[0.02312702 0.00612186]\n",
      " [0.00612186 1.06044402]]\n",
      "\n",
      "State Vector is:\n",
      " [[13.10594766]\n",
      " [ 5.02804497]]\n",
      "\n",
      "Kalman Gain is:\n",
      " [[0.30350421]\n",
      " [0.08033935]]\n"
     ]
    }
   ],
   "source": [
    "P = np.matrix([[2**2, 0        ]\n",
    "              ,[0,         1.2**2]])\n",
    "\n",
    "deltaT = 1.0\n",
    "F = np.matrix([[1, deltaT]\n",
    "              ,[0, 1     ]])\n",
    "\n",
    "X = np.matrix([[8],\n",
    "               [5]])\n",
    "\n",
    "print('After Prediction:')\n",
    "Q = 0\n",
    "B = 0\n",
    "u = 0\n",
    "X, P = predict(F, X, B, u, P, Q)\n",
    "print(\"\\nP matrix is:\\n\", P)\n",
    "print(\"\\nState Vector is:\\n\", X)\n",
    "print('_________________')\n",
    "\n",
    "print('After Update:')\n",
    "R = np.matrix([ 0.5**2])\n",
    "H = np.matrix([1./0.3048 , 0])\n",
    "z = np.matrix([43])\n",
    "X, P, K_gain = measure(P, H, R, X, z)\n",
    "print(\"\\nP matrix is:\\n\", P)\n",
    "print(\"\\nState Vector is:\\n\", X)\n",
    "print(\"\\nKalman Gain is:\\n\", K_gain)"
   ]
  },
  {
   "cell_type": "markdown",
   "metadata": {},
   "source": [
    "# Q2:"
   ]
  },
  {
   "cell_type": "code",
   "execution_count": 6,
   "metadata": {},
   "outputs": [
    {
     "name": "stdout",
     "output_type": "stream",
     "text": [
      "After Prediction:\n",
      "\n",
      "P matrix is:\n",
      " [[5.44 1.44]\n",
      " [1.44 1.44]]\n",
      "\n",
      "State Vector is:\n",
      " [[13.]\n",
      " [ 5.]]\n",
      "_________________\n",
      "After Update:\n",
      "\n",
      "P matrix is:\n",
      " [[0.02312482 0.00574134]\n",
      " [0.00574134 0.99452888]]\n",
      "\n",
      "State Vector is:\n",
      " [[13.10557877]\n",
      " [ 4.96414369]]\n",
      "\n",
      "Kalman Gain is:\n",
      " [[0.30347538 0.00035883]\n",
      " [0.07534561 0.06215806]]\n"
     ]
    }
   ],
   "source": [
    "P = np.matrix([[2**2, 0     ]\n",
    "              ,[0   , 1.2**2]])\n",
    "\n",
    "delta_t = 1.0\n",
    "F = np.matrix([[1, deltaT]\n",
    "              ,[0, 1     ]])\n",
    "\n",
    "X = np.matrix([[8],\n",
    "               [5]])\n",
    "\n",
    "print('After Prediction:')\n",
    "Q = 0\n",
    "B = 0\n",
    "u = 0\n",
    "X, P = predict(F, X, B, u, P, Q)\n",
    "print(\"\\nP matrix is:\\n\", P)\n",
    "print(\"\\nState Vector is:\\n\", X)\n",
    "print('_________________')\n",
    "\n",
    "print('After Update:')\n",
    "R = np.matrix([[0.5**2, 0   ],\n",
    "               [0     , 4**2]])\n",
    "H = np.matrix([[1./0.3048 , 0],\n",
    "               [0         , 1.0]])\n",
    "z = np.matrix([[43]\n",
    "              ,[4]])\n",
    "X, P, K_gain = measure(P, H, R, X, z)\n",
    "print(\"\\nP matrix is:\\n\", P)\n",
    "print(\"\\nState Vector is:\\n\", X)\n",
    "print(\"\\nKalman Gain is:\\n\", K_gain)"
   ]
  },
  {
   "cell_type": "markdown",
   "metadata": {},
   "source": [
    "# Q4:"
   ]
  },
  {
   "cell_type": "code",
   "execution_count": 7,
   "metadata": {},
   "outputs": [
    {
     "name": "stdout",
     "output_type": "stream",
     "text": [
      "Finish!\n",
      "\n",
      "State Vector is:\n",
      " [[515.30128021]\n",
      " [667.82815584]\n",
      " [ 67.6560699 ]\n",
      " [130.62964398]]\n",
      "_______________________\n",
      "\n",
      "P matrix is:\n",
      " [[17.059979    0.          4.06497694  0.        ]\n",
      " [ 0.         17.059979    0.          4.06497694]\n",
      " [ 4.06497694  0.          1.41055982  0.        ]\n",
      " [ 0.          4.06497694  0.          1.41055982]]\n",
      "_______________________\n",
      "\n",
      "Kalman gain is:\n",
      " [[0.47388831 0.        ]\n",
      " [0.         0.47388831]\n",
      " [0.11291603 0.        ]\n",
      " [0.         0.11291603]]\n"
     ]
    }
   ],
   "source": [
    "delta_t = 1.0\n",
    "\n",
    "P = np.matrix([ [7**2, 0   , 0     , 0],\n",
    "                [0   , 7**2, 0     , 0],\n",
    "                [0   , 0   , 100**2, 0],\n",
    "                [0   , 0   , 0     , 100**2]])\n",
    "\n",
    "F = np.matrix([ [1, 0, delta_t, 0      ],\n",
    "                [0, 1, 0      , delta_t],\n",
    "                [0, 0, 1      , 0      ],\n",
    "                [0, 0, 0      , 1      ]])\n",
    "\n",
    "X = np.matrix([ [200],\n",
    "                [150],\n",
    "                [0],\n",
    "                [0]])\n",
    "\n",
    "H = np.matrix([[1, 0, 0, 0],\n",
    "               [0, 1, 0, 0]])\n",
    "\n",
    "R = np.matrix([ [6**2,0   ],\n",
    "                [0   ,6**2]])\n",
    "\n",
    "u = np.matrix([ [0],\n",
    "                [0],\n",
    "                [5],\n",
    "                [15]])\n",
    "\n",
    "B = np.matrix([[0,0,0.5,0  ],\n",
    "               [0,0,0  ,0.5],\n",
    "               [0,0,1  ,0  ],\n",
    "               [0,0,0  ,1  ]])\n",
    "\n",
    "Q = np.zeros_like(P)\n",
    "\n",
    "# sensor measurements\n",
    "z = [np.matrix([[240], [204]]),\n",
    "     np.matrix([[284], [267]]),\n",
    "     np.matrix([[334], [344]]),\n",
    "     np.matrix([[390], [437]]),\n",
    "     np.matrix([[450], [544]]),\n",
    "     np.matrix([[516], [667]])]\n",
    "\n",
    "kalman_filter = KalmanFilter(F, B, u, Q, H, R, X, P)\n",
    "kalman_filter.run(z)\n",
    "# X_roi = [515.30128021 667.82815584  67.6560699  130.62964398]"
   ]
  },
  {
   "cell_type": "markdown",
   "metadata": {},
   "source": [
    "# 2020 moed b:"
   ]
  },
  {
   "cell_type": "code",
   "execution_count": 8,
   "metadata": {},
   "outputs": [
    {
     "name": "stdout",
     "output_type": "stream",
     "text": [
      "1 :\n",
      "X':  [[302.55]\n",
      " [ 26.  ]]\n",
      "P':  [[324.64   6.4 ]\n",
      " [  6.4   64.  ]]\n",
      "Finish!\n",
      "\n",
      "State Vector is:\n",
      " [[319.34436735]\n",
      " [ 26.63304901]]\n",
      "_______________________\n",
      "\n",
      "P matrix is:\n",
      " [[179.02505856   0.35355991]\n",
      " [  0.35355991   6.3994343 ]]\n",
      "_______________________\n",
      "\n",
      "Kalman gain is:\n",
      " [[0.89512529 0.01657312]\n",
      " [0.0017678  0.29997348]]\n"
     ]
    }
   ],
   "source": [
    "delta_t = 0.1\n",
    "\n",
    "P = np.matrix([ [18**2, 0],\n",
    "                [0   , 8**2]])\n",
    "\n",
    "F = np.matrix([ [1, delta_t],\n",
    "                [0, 1]])\n",
    "\n",
    "X = np.matrix([ [300],\n",
    "                [25]])\n",
    "\n",
    "H = np.matrix([[1/2, 0],\n",
    "               [0, 3]])\n",
    "\n",
    "R = np.matrix([ [10**2,0   ],\n",
    "                [0   ,8**2]])\n",
    "\n",
    "u = np.matrix([ [10]])\n",
    "\n",
    "B = np.matrix([[ 0.5* delta_t**2],\n",
    "               [ delta_t ]])\n",
    "\n",
    "Q = np.zeros_like(P)\n",
    "\n",
    "# sensor measurements\n",
    "z = [np.matrix([[170],\n",
    "                [80]])]\n",
    "\n",
    "kalman_filter = KalmanFilter(F, B, u, Q, H, R, X, P)\n",
    "kalman_filter.run(z, verbos=1)"
   ]
  },
  {
   "cell_type": "markdown",
   "metadata": {},
   "source": [
    "# 2021 moed a:"
   ]
  },
  {
   "cell_type": "code",
   "execution_count": 9,
   "metadata": {},
   "outputs": [
    {
     "name": "stdout",
     "output_type": "stream",
     "text": [
      "Finish!\n",
      "\n",
      "State Vector is:\n",
      " [[3.77102597]\n",
      " [5.22712316]]\n",
      "_______________________\n",
      "\n",
      "P matrix is:\n",
      " [[0.06238099 0.00548404]\n",
      " [0.00548404 2.1872953 ]]\n",
      "_______________________\n",
      "\n",
      "Kalman gain is:\n",
      " [[0.00998096]\n",
      " [0.00087745]]\n"
     ]
    }
   ],
   "source": [
    "delta_t = 2\n",
    "\n",
    "P = np.matrix([ [5**2, 0],\n",
    "                [0   , 1.2**2]])\n",
    "\n",
    "F = np.matrix([ [1, delta_t],\n",
    "                [0, 1]])\n",
    "\n",
    "X = np.matrix([ [30],\n",
    "                [2.5]])\n",
    "\n",
    "H = np.matrix([[100, 0]])\n",
    "\n",
    "R = np.matrix([[25**2]])\n",
    "\n",
    "u = np.matrix([[3]])\n",
    "\n",
    "B = np.matrix([[ 0.5* delta_t**2],\n",
    "               [ delta_t ]])\n",
    "\n",
    "Q = np.matrix([ [2, 0],\n",
    "                [0, 1]])\n",
    "\n",
    "# sensor measurements\n",
    "z = [np.matrix([[370]])]\n",
    "\n",
    "kalman_filter = KalmanFilter(F, B, u, Q, H, R, X, P)\n",
    "kalman_filter.run(z, verbos=0)"
   ]
  },
  {
   "cell_type": "markdown",
   "metadata": {},
   "source": [
    "# 2021 moed b:"
   ]
  },
  {
   "cell_type": "code",
   "execution_count": 10,
   "metadata": {},
   "outputs": [
    {
     "name": "stdout",
     "output_type": "stream",
     "text": [
      "1 :\n",
      "X':  [[315. ]\n",
      " [  2.5]]\n",
      "P':  [[32.76  2.88]\n",
      " [ 2.88  2.44]]\n",
      "Finish!\n",
      "\n",
      "State Vector is:\n",
      " [[316.36041523]\n",
      " [  2.49847731]]\n",
      "_______________________\n",
      "\n",
      "P matrix is:\n",
      " [[24.2624861   1.7160108 ]\n",
      " [ 1.7160108   1.88070017]]\n",
      "_______________________\n",
      "\n",
      "Kalman gain is:\n",
      " [[2.42624861e+02 1.90667867e-01]\n",
      " [1.71601080e+01 2.08966686e-01]]\n"
     ]
    }
   ],
   "source": [
    "delta_t = 2\n",
    "\n",
    "P = np.matrix([ [5**2, 0],\n",
    "                [0   , 1.2**2]])\n",
    "\n",
    "F = np.matrix([ [1, delta_t],\n",
    "                [0, 1]])\n",
    "\n",
    "X = np.matrix([ [300],\n",
    "                [12.5]])\n",
    "\n",
    "H = np.matrix([[1/1000, 0],\n",
    "               [0, 1]])\n",
    "\n",
    "R = np.matrix([ [0.01**2,0   ],\n",
    "                [0   ,3**2]])\n",
    "\n",
    "u = np.matrix([ [-5]])\n",
    "\n",
    "B = np.matrix([[ 0.5* delta_t**2],\n",
    "               [ delta_t ]])\n",
    "\n",
    "Q = np.matrix([ [2, 0],\n",
    "                [0, 1]])\n",
    "\n",
    "# sensor measurements\n",
    "z = [np.matrix([[0.321],\n",
    "                [2]])]\n",
    "\n",
    "kalman_filter = KalmanFilter(F, B, u, Q, H, R, X, P)\n",
    "kalman_filter.run(z, verbos=1)"
   ]
  },
  {
   "cell_type": "code",
   "execution_count": null,
   "metadata": {},
   "outputs": [],
   "source": []
  }
 ],
 "metadata": {
  "interpreter": {
   "hash": "e48d23369a553edc96f1373b6255b5687d82d68cd08867622b2500e338930542"
  },
  "kernelspec": {
   "display_name": "Python 3",
   "language": "python",
   "name": "python3"
  },
  "language_info": {
   "codemirror_mode": {
    "name": "ipython",
    "version": 3
   },
   "file_extension": ".py",
   "mimetype": "text/x-python",
   "name": "python",
   "nbconvert_exporter": "python",
   "pygments_lexer": "ipython3",
   "version": "3.7.4"
  }
 },
 "nbformat": 4,
 "nbformat_minor": 2
}
